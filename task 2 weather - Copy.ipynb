{
 "cells": [
  {
   "cell_type": "code",
   "execution_count": 1,
   "metadata": {},
   "outputs": [],
   "source": [
    "from bs4 import BeautifulSoup\n",
    "import requests\n",
    "link = 'https://forecast.weather.gov/MapClick.php?lat=37.7772&lon=-122.4168'"
   ]
  },
  {
   "cell_type": "code",
   "execution_count": 2,
   "metadata": {},
   "outputs": [
    {
     "data": {
      "text/plain": [
       "<Response [200]>"
      ]
     },
     "execution_count": 2,
     "metadata": {},
     "output_type": "execute_result"
    }
   ],
   "source": [
    "res = requests.get(link)\n",
    "res"
   ]
  },
  {
   "cell_type": "code",
   "execution_count": 3,
   "metadata": {},
   "outputs": [],
   "source": [
    "soup = BeautifulSoup(res.text,'html.parser')"
   ]
  },
  {
   "cell_type": "code",
   "execution_count": 4,
   "metadata": {},
   "outputs": [],
   "source": [
    "weather_week = soup.find('ul',{'id':'seven-day-forecast-list'},{'class':'list-unstyled'})"
   ]
  },
  {
   "cell_type": "code",
   "execution_count": 5,
   "metadata": {},
   "outputs": [],
   "source": [
    "weather = weather_week.find_all('p')"
   ]
  },
  {
   "cell_type": "code",
   "execution_count": 6,
   "metadata": {},
   "outputs": [
    {
     "data": {
      "text/plain": [
       "'55°F'"
      ]
     },
     "execution_count": 6,
     "metadata": {},
     "output_type": "execute_result"
    }
   ],
   "source": [
    "current_weather = soup.find('p',{'class':'myforecast-current-lrg'}).text\n",
    "current_weather"
   ]
  },
  {
   "cell_type": "code",
   "execution_count": 7,
   "metadata": {},
   "outputs": [
    {
     "data": {
      "text/plain": [
       "12"
      ]
     },
     "execution_count": 7,
     "metadata": {},
     "output_type": "execute_result"
    }
   ],
   "source": [
    "current_weather_num = ''.join([e if e.isdigit() else ' ' for e in current_weather]).split()\n",
    "current_weather_num = int(current_weather_num[0])\n",
    "current_weather_num_c = int((current_weather_num - 32) * 5/9) \n",
    "current_weather_num_c"
   ]
  },
  {
   "cell_type": "code",
   "execution_count": 8,
   "metadata": {},
   "outputs": [],
   "source": [
    "with open ('weather2.csv', mode = 'w', encoding = 'utf-8')as fd:\n",
    "    fd.write(f'The day, The temp, The temp in C, The Description\\n')\n",
    "    fd.write(f'current temp, {current_weather_num}F , {current_weather_num_c}C, UNKNOWN \\n')\n",
    "    for i in range(0, len(weather), 4):\n",
    "        if i + 4 < len(weather):\n",
    "            weather_day = weather[i].text\n",
    "            weather_temp = weather[i + 2].text\n",
    "            weather_temp_num = ''.join([e if e.isdigit() else ' ' for e in weather_temp]).split()\n",
    "            weather_temp_num = int(weather_temp_num[0])\n",
    "            weather_temp_num_c = int((weather_temp_num - 32) * 5/9 )\n",
    "            weather_desc = weather[i + 3].text\n",
    "            fd.write(f'{weather_day}, {weather_temp}, {weather_temp_num_c}C, {weather_desc}\\n')"
   ]
  },
  {
   "cell_type": "code",
   "execution_count": 9,
   "metadata": {},
   "outputs": [
    {
     "data": {
      "text/html": [
       "<div>\n",
       "<style scoped>\n",
       "    .dataframe tbody tr th:only-of-type {\n",
       "        vertical-align: middle;\n",
       "    }\n",
       "\n",
       "    .dataframe tbody tr th {\n",
       "        vertical-align: top;\n",
       "    }\n",
       "\n",
       "    .dataframe thead th {\n",
       "        text-align: right;\n",
       "    }\n",
       "</style>\n",
       "<table border=\"1\" class=\"dataframe\">\n",
       "  <thead>\n",
       "    <tr style=\"text-align: right;\">\n",
       "      <th></th>\n",
       "      <th>The day</th>\n",
       "      <th>The temp</th>\n",
       "      <th>The temp in C</th>\n",
       "      <th>The Description</th>\n",
       "    </tr>\n",
       "  </thead>\n",
       "  <tbody>\n",
       "    <tr>\n",
       "      <th>0</th>\n",
       "      <td>current temp</td>\n",
       "      <td>55F</td>\n",
       "      <td>12C</td>\n",
       "      <td>UNKNOWN</td>\n",
       "    </tr>\n",
       "    <tr>\n",
       "      <th>1</th>\n",
       "      <td>Memorial Day</td>\n",
       "      <td>High: 62 °F</td>\n",
       "      <td>16C</td>\n",
       "      <td>Sunny</td>\n",
       "    </tr>\n",
       "    <tr>\n",
       "      <th>2</th>\n",
       "      <td>Tonight</td>\n",
       "      <td>Low: 51 °F</td>\n",
       "      <td>10C</td>\n",
       "      <td>IncreasingClouds</td>\n",
       "    </tr>\n",
       "    <tr>\n",
       "      <th>3</th>\n",
       "      <td>Tuesday</td>\n",
       "      <td>High: 64 °F</td>\n",
       "      <td>17C</td>\n",
       "      <td>DecreasingClouds</td>\n",
       "    </tr>\n",
       "    <tr>\n",
       "      <th>4</th>\n",
       "      <td>Tuesday Night</td>\n",
       "      <td>Low: 52 °F</td>\n",
       "      <td>11C</td>\n",
       "      <td>Mostly Clear</td>\n",
       "    </tr>\n",
       "    <tr>\n",
       "      <th>5</th>\n",
       "      <td>Wednesday</td>\n",
       "      <td>High: 68 °F</td>\n",
       "      <td>20C</td>\n",
       "      <td>Sunny</td>\n",
       "    </tr>\n",
       "    <tr>\n",
       "      <th>6</th>\n",
       "      <td>Wednesday Night</td>\n",
       "      <td>Low: 51 °F</td>\n",
       "      <td>10C</td>\n",
       "      <td>Mostly Clear</td>\n",
       "    </tr>\n",
       "    <tr>\n",
       "      <th>7</th>\n",
       "      <td>Thursday</td>\n",
       "      <td>High: 70 °F</td>\n",
       "      <td>21C</td>\n",
       "      <td>Sunny</td>\n",
       "    </tr>\n",
       "    <tr>\n",
       "      <th>8</th>\n",
       "      <td>Thursday Night</td>\n",
       "      <td>Low: 51 °F</td>\n",
       "      <td>10C</td>\n",
       "      <td>Mostly Clear</td>\n",
       "    </tr>\n",
       "  </tbody>\n",
       "</table>\n",
       "</div>"
      ],
      "text/plain": [
       "           The day      The temp  The temp in C    The Description\n",
       "0     current temp          55F             12C           UNKNOWN \n",
       "1     Memorial Day   High: 62 °F            16C              Sunny\n",
       "2          Tonight    Low: 51 °F            10C   IncreasingClouds\n",
       "3          Tuesday   High: 64 °F            17C   DecreasingClouds\n",
       "4    Tuesday Night    Low: 52 °F            11C       Mostly Clear\n",
       "5        Wednesday   High: 68 °F            20C              Sunny\n",
       "6  Wednesday Night    Low: 51 °F            10C       Mostly Clear\n",
       "7         Thursday   High: 70 °F            21C              Sunny\n",
       "8   Thursday Night    Low: 51 °F            10C       Mostly Clear"
      ]
     },
     "execution_count": 9,
     "metadata": {},
     "output_type": "execute_result"
    }
   ],
   "source": [
    "import pandas as pd\n",
    "pd.read_csv('weather2.csv')"
   ]
  }
 ],
 "metadata": {
  "kernelspec": {
   "display_name": "Python 3",
   "language": "python",
   "name": "python3"
  },
  "language_info": {
   "codemirror_mode": {
    "name": "ipython",
    "version": 3
   },
   "file_extension": ".py",
   "mimetype": "text/x-python",
   "name": "python",
   "nbconvert_exporter": "python",
   "pygments_lexer": "ipython3",
   "version": "3.7.6"
  }
 },
 "nbformat": 4,
 "nbformat_minor": 4
}
